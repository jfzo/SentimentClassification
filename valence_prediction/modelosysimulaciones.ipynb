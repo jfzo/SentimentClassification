{
 "cells": [
  {
   "cell_type": "markdown",
   "metadata": {},
   "source": [
    "### Paquetes, dataset y TF-idf"
   ]
  },
  {
   "cell_type": "code",
   "execution_count": 1,
   "metadata": {
    "tags": []
   },
   "outputs": [],
   "source": [
    "import pandas as pd\n",
    "import numpy as np\n",
    "from sklearn.model_selection import train_test_split\n",
    "from sklearn.naive_bayes import MultinomialNB\n",
    "from sklearn.feature_extraction.text import CountVectorizer, TfidfTransformer\n",
    "import pandas as pd\n",
    "import xml.etree.ElementTree as et\n",
    "\n",
    "dfTOTAL = pd.read_csv(\"dfTotal.csv\")\n",
    "dfTOTAL = dfTOTAL.iloc[:, 1:]\n",
    "doc = np.array(dfTOTAL)\n",
    "docs = dfTOTAL['Headline'].tolist()\n",
    "\n",
    "cv = CountVectorizer().fit(docs)\n",
    "matrix_contador=cv.fit_transform(docs) #recordar que es una matriz\n",
    "tfidf_transf = TfidfTransformer(smooth_idf=True, use_idf=True)\n",
    "tfidf_transf.fit(matrix_contador)\n",
    "df_idf = pd.DataFrame(tfidf_transf.idf_, index=cv.get_feature_names_out(),columns=[\"idf_weights\"]) \n",
    "\n",
    "tf_idf_matrix = tfidf_transf.transform(matrix_contador)\n",
    "\n",
    "X = tf_idf_matrix  \n",
    "y = dfTOTAL[\"Valence\"]  \n",
    "\n",
    "X_train, X_test, y_train, y_test = train_test_split(X, y, test_size=0.3, random_state=55)"
   ]
  },
  {
   "cell_type": "markdown",
   "metadata": {},
   "source": [
    "### Nearest Neighbors"
   ]
  },
  {
   "cell_type": "code",
   "execution_count": 2,
   "metadata": {
    "tags": []
   },
   "outputs": [
    {
     "name": "stdout",
     "output_type": "stream",
     "text": [
      "Precisión del modelo: 0.03\n",
      "MSE del modelo: 2809.6433333333334\n"
     ]
    }
   ],
   "source": [
    "from sklearn.neighbors import KNeighborsRegressor\n",
    "neigh = KNeighborsRegressor(n_neighbors=1)\n",
    "neigh.fit(X_train, y_train)\n",
    "\n",
    "y_pred = neigh.predict(X_test)\n",
    "\n",
    "from sklearn.metrics import accuracy_score, classification_report\n",
    "\n",
    "accuracy = accuracy_score(y_test, y_pred)\n",
    "#print(classification_report(y_test, y_pred))\n",
    "print(f'Precisión del modelo: {accuracy:.2f}')\n",
    "\n",
    "from sklearn.metrics import mean_squared_error\n",
    "mse = mean_squared_error(y_test, y_pred)\n",
    "print(\"MSE del modelo:\", mse)"
   ]
  },
  {
   "cell_type": "markdown",
   "metadata": {},
   "source": [
    "### Naive Bayes "
   ]
  },
  {
   "cell_type": "code",
   "execution_count": 3,
   "metadata": {
    "tags": []
   },
   "outputs": [
    {
     "data": {
      "text/plain": [
       "3350.2533333333336"
      ]
     },
     "execution_count": 3,
     "metadata": {},
     "output_type": "execute_result"
    }
   ],
   "source": [
    "from sklearn.naive_bayes import MultinomialNB\n",
    "clf = MultinomialNB()\n",
    "clf.fit(X_train, y_train)\n",
    "y_pred = clf.predict(X_test)\n",
    "\n",
    "mseNB = mean_squared_error(y_test, y_pred)\n",
    "mseNB"
   ]
  },
  {
   "cell_type": "markdown",
   "metadata": {
    "tags": []
   },
   "source": [
    "### Gradient Boost "
   ]
  },
  {
   "cell_type": "code",
   "execution_count": 4,
   "metadata": {
    "tags": []
   },
   "outputs": [
    {
     "name": "stdout",
     "output_type": "stream",
     "text": [
      "The mean squared error (MSE) on test set: 2072.0272\n"
     ]
    }
   ],
   "source": [
    "from sklearn.ensemble import GradientBoostingRegressor\n",
    "from sklearn.datasets import make_regression\n",
    "\n",
    "reg = GradientBoostingRegressor(random_state=55)\n",
    "reg.fit(X_train, y_train)\n",
    "GradientBoostingRegressor(random_state=55)\n",
    "GradientBoostingRegressor(random_state=55)\n",
    "\n",
    "reg.score(X_test, y_test)\n",
    "\n",
    "mse = mean_squared_error(y_test, reg.predict(X_test))\n",
    "print(\"The mean squared error (MSE) on test set: {:.4f}\".format(mse))"
   ]
  },
  {
   "cell_type": "markdown",
   "metadata": {
    "jp-MarkdownHeadingCollapsed": true,
    "tags": []
   },
   "source": [
    "### Gaussian Process Falló"
   ]
  },
  {
   "cell_type": "markdown",
   "metadata": {},
   "source": [
    "## Simulaciones de los métodos de regresión"
   ]
  },
  {
   "cell_type": "code",
   "execution_count": 23,
   "metadata": {},
   "outputs": [],
   "source": [
    "prom = []\n",
    "dev_stand = []"
   ]
  },
  {
   "cell_type": "markdown",
   "metadata": {
    "tags": []
   },
   "source": [
    "### Nearest Neighbors "
   ]
  },
  {
   "cell_type": "code",
   "execution_count": 22,
   "metadata": {
    "tags": []
   },
   "outputs": [],
   "source": [
    "from sklearn.neighbors import KNeighborsRegressor\n",
    "from sklearn.metrics import accuracy_score, classification_report\n",
    "from sklearn.metrics import mean_squared_error\n",
    "iter = 10000\n",
    "\n",
    "accuracy_list = []\n",
    "mse_list = []\n",
    "\n",
    "for i in range(1,(iter+1)):\n",
    "    X_train, X_test, y_train, y_test = train_test_split(X, y, test_size=0.3, random_state=i)\n",
    "    neigh = KNeighborsRegressor(n_neighbors=1)\n",
    "    neigh.fit(X_train, y_train)\n",
    "    y_pred = neigh.predict(X_test)\n",
    "    \n",
    "    #accuracy = accuracy_score(y_test, y_pred)\n",
    "    #accuracy_list.append(accuracy)\n",
    "    \n",
    "    mse = mean_squared_error(y_test, y_pred)\n",
    "    mse_list.append(mse)\n",
    "    \n",
    "\n"
   ]
  },
  {
   "cell_type": "code",
   "execution_count": 24,
   "metadata": {
    "tags": []
   },
   "outputs": [],
   "source": [
    "Nnmean = np.mean(mse_list)\n",
    "Nnstd = np.std(mse_list)\n",
    "\n",
    "prom.append(Nnmean)\n",
    "dev_stand.append(Nnstd)"
   ]
  },
  {
   "cell_type": "markdown",
   "metadata": {
    "tags": []
   },
   "source": [
    "### Naive Bayes"
   ]
  },
  {
   "cell_type": "code",
   "execution_count": 11,
   "metadata": {
    "tags": []
   },
   "outputs": [],
   "source": [
    "from sklearn.naive_bayes import MultinomialNB\n",
    "\n",
    "accuracy_listNB = []\n",
    "mse_listNB = []\n",
    "iter = 1000\n",
    "\n",
    "for i in range(1,(iter+1)):\n",
    "    X_train, X_test, y_train, y_test = train_test_split(X, y, test_size=0.3, random_state=i)\n",
    "    naive = MultinomialNB()\n",
    "    naive.fit(X_train, y_train)\n",
    "    y_pred = naive.predict(X_test)\n",
    "\n",
    "    mseNB = mean_squared_error(y_test, y_pred)\n",
    "    mse_listNB.append(mseNB)\n",
    "    "
   ]
  },
  {
   "cell_type": "code",
   "execution_count": 25,
   "metadata": {
    "tags": []
   },
   "outputs": [],
   "source": [
    "NBprom = np.mean(mse_listNB)\n",
    "NBstd = np.std(mse_listNB)\n",
    "\n",
    "prom.append(NBprom)\n",
    "dev_stand.append(NBstd)"
   ]
  },
  {
   "cell_type": "markdown",
   "metadata": {},
   "source": [
    "### Gradient Boost"
   ]
  },
  {
   "cell_type": "code",
   "execution_count": 14,
   "metadata": {
    "tags": []
   },
   "outputs": [],
   "source": [
    "from sklearn.ensemble import GradientBoostingRegressor\n",
    "from sklearn.datasets import make_regression\n",
    "\n",
    "#reg.score(X_test, y_test)\n",
    "accuracy_listGB = []\n",
    "mse_listGB = []\n",
    "iter = 100\n",
    "\n",
    "for i in range(1,(iter+1)):\n",
    "    X_train, X_test, y_train, y_test = train_test_split(X, y, test_size=0.3, random_state=i)\n",
    "    reg = GradientBoostingRegressor(random_state=i)\n",
    "    reg.fit(X_train, y_train)\n",
    "    y_pred = reg.predict(X_test)\n",
    "\n",
    "    mseGB = mean_squared_error(y_test, y_pred)\n",
    "    mse_listGB.append(mseGB)\n",
    "    "
   ]
  },
  {
   "cell_type": "code",
   "execution_count": 26,
   "metadata": {
    "tags": []
   },
   "outputs": [
    {
     "name": "stdout",
     "output_type": "stream",
     "text": [
      "3\n"
     ]
    }
   ],
   "source": [
    "GBprom = np.mean(mse_listGB)\n",
    "GBstd = np.std(mse_listGB)\n",
    "\n",
    "prom.append(GBprom)\n",
    "dev_stand.append(GBstd)\n",
    "\n",
    "print(len(prom))"
   ]
  },
  {
   "cell_type": "markdown",
   "metadata": {},
   "source": [
    "#### Gráfico MSE y Desviación Estandar "
   ]
  },
  {
   "cell_type": "code",
   "execution_count": 28,
   "metadata": {
    "tags": []
   },
   "outputs": [
    {
     "data": {
      "image/png": "[encoded data removed]",
      "text/plain": [
       "<Figure size 640x480 with 1 Axes>"
      ]
     },
     "metadata": {},
     "output_type": "display_data"
    }
   ],
   "source": [
    "import matplotlib.pyplot as plt\n",
    "\n",
    "nombres = ['NN', 'NB', 'GB']\n",
    "plt.scatter(prom, dev_stand)\n",
    "\n",
    "for i, nombre in enumerate(nombres):\n",
    "    plt.text(prom[i], dev_stand[i], nombre, fontsize=10, ha='right', va='bottom')\n",
    "\n",
    "plt.xlabel('MSE promedio')\n",
    "plt.ylabel('Desviación Estándar promedio')\n",
    "plt.title('1000 simulaciones')\n",
    "\n",
    "plt.show()"
   ]
  }
 ],
 "metadata": {
  "kernelspec": {
   "display_name": "entonoaffect",
   "language": "python",
   "name": "entonoaffect"
  },
  "language_info": {
   "codemirror_mode": {
    "name": "ipython",
    "version": 3
   },
   "file_extension": ".py",
   "mimetype": "text/x-python",
   "name": "python",
   "nbconvert_exporter": "python",
   "pygments_lexer": "ipython3",
   "version": "3.7.3"
  }
 },
 "nbformat": 4,
 "nbformat_minor": 4
}
